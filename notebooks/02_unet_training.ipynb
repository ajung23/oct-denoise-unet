{
 "cells": [
  {
   "cell_type": "markdown",
   "id": "6e98e8fd",
   "metadata": {},
   "source": [
    "# 02 · U‑Net Training (Synthetic Masks)\n",
    "This trains a small U‑Net on the synthetic dataset and shows predictions."
   ]
  },
  {
   "cell_type": "code",
   "execution_count": null,
   "id": "dd548aad",
   "metadata": {},
   "outputs": [],
   "source": [
    "# Install deps\n",
    "import pathlib\n",
    "if pathlib.Path('requirements.txt').exists():\n",
    "    !pip -q install -r requirements.txt\n",
    "else:\n",
    "    !pip -q install numpy scipy scikit-image imageio tifffile tqdm torch torchvision"
   ]
  },
  {
   "cell_type": "code",
   "execution_count": null,
   "id": "83fd0b54",
   "metadata": {},
   "outputs": [],
   "source": [
    "# Ensure data exists\n",
    "!python scripts/make_synthetic_oct.py --out data/synth --n 20"
   ]
  },
  {
   "cell_type": "code",
   "execution_count": null,
   "id": "9f7acace",
   "metadata": {},
   "outputs": [],
   "source": [
    "# Train a tiny UNet for 2 epochs\n",
    "!python scripts/train_unet.py --data data/synth --out runs/unet_demo --epochs 2"
   ]
  },
  {
   "cell_type": "code",
   "execution_count": null,
   "id": "c87358d0",
   "metadata": {},
   "outputs": [],
   "source": [
    "# Evaluate image metrics (PSNR/SSIM) vs. ground-truth masks (as a quick smoke metric)\n",
    "!python scripts/eval_metrics.py --pred runs/unet_demo/preds --gt data/synth/masks"
   ]
  },
  {
   "cell_type": "code",
   "execution_count": null,
   "id": "8a8181f6",
   "metadata": {},
   "outputs": [],
   "source": [
    "# Visualize a prediction\n",
    "import glob, imageio.v2 as imageio, matplotlib.pyplot as plt\n",
    "pred = sorted(glob.glob('runs/unet_demo/preds/*.png'))[0]\n",
    "mask = sorted(glob.glob('data/synth/masks/*.png'))[0]\n",
    "p = imageio.imread(pred); m = imageio.imread(mask)\n",
    "plt.figure(figsize=(8,3))\n",
    "plt.subplot(1,2,1); plt.imshow(p, cmap='gray'); plt.title('Predicted mask'); plt.axis('off')\n",
    "plt.subplot(1,2,2); plt.imshow(m, cmap='gray'); plt.title('Ground truth'); plt.axis('off')\n",
    "plt.show()"
   ]
  }
 ],
 "metadata": {},
 "nbformat": 4,
 "nbformat_minor": 5
}