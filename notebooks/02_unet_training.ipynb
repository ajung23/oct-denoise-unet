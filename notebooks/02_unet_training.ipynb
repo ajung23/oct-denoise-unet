{
 "cells": [
  {
   "cell_type": "markdown",
   "id": "8a188f2e",
   "metadata": {},
   "source": [
    "# 02 · U‑Net Training (Synthetic)\n",
    "Trains a small U‑Net and shows a prediction overlay."
   ]
  },
  {
   "cell_type": "code",
   "execution_count": null,
   "id": "551f778b",
   "metadata": {},
   "outputs": [],
   "source": [
    "# Install\n",
    "!pip -q install numpy scikit-image imageio tifffile tqdm torch torchvision"
   ]
  },
  {
   "cell_type": "code",
   "execution_count": null,
   "id": "58ccd606",
   "metadata": {},
   "outputs": [],
   "source": [
    "# Prepare data\n",
    "!python scripts/make_synthetic_oct.py --out data/synth --n 20"
   ]
  },
  {
   "cell_type": "code",
   "execution_count": null,
   "id": "619f67aa",
   "metadata": {},
   "outputs": [],
   "source": [
    "# Train quick\n",
    "!python scripts/train_unet.py --data data/synth --out runs/unet_demo --epochs 2"
   ]
  },
  {
   "cell_type": "code",
   "execution_count": null,
   "id": "aaddeeb1",
   "metadata": {},
   "outputs": [],
   "source": [
    "# Show one prediction\n",
    "import glob, imageio.v2 as imageio, matplotlib.pyplot as plt\n",
    "pred = sorted(glob.glob('runs/unet_demo/preds/*.png'))[0]\n",
    "mask = sorted(glob.glob('data/synth/masks/*.png'))[0]\n",
    "p = imageio.imread(pred); m = imageio.imread(mask)\n",
    "plt.figure(figsize=(10,4))\n",
    "plt.subplot(1,2,1); plt.imshow(p, cmap='gray'); plt.title('Predicted mask'); plt.axis('off')\n",
    "plt.subplot(1,2,2); plt.imshow(m, cmap='gray'); plt.title('Ground truth'); plt.axis('off')\n",
    "plt.show()"
   ]
  }
 ],
 "metadata": {},
 "nbformat": 4,
 "nbformat_minor": 5
}