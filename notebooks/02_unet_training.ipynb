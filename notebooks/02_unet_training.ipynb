{
 "cells": [
  {
   "cell_type": "markdown",
   "id": "b0e2c4ab",
   "metadata": {},
   "source": [
    "# 02 · U‑Net Training (Synthetic Masks)\n",
    "This trains a tiny U‑Net on the synthetic dataset."
   ]
  },
  {
   "cell_type": "code",
   "execution_count": null,
   "id": "a158be4b",
   "metadata": {},
   "outputs": [],
   "source": [
    "!python -m pip install -r requirements.txt"
   ]
  },
  {
   "cell_type": "code",
   "execution_count": null,
   "id": "b245557d",
   "metadata": {},
   "outputs": [],
   "source": [
    "!python scripts/make_synthetic_oct.py --out data/synth --n 20"
   ]
  },
  {
   "cell_type": "code",
   "execution_count": null,
   "id": "a2657a5d",
   "metadata": {},
   "outputs": [],
   "source": [
    "!python scripts/train_unet.py --data data/synth --out runs/unet_demo --epochs 2"
   ]
  },
  {
   "cell_type": "code",
   "execution_count": null,
   "id": "fee50f87",
   "metadata": {},
   "outputs": [],
   "source": [
    "!python scripts/eval_metrics.py --pred runs/unet_demo/preds --gt data/synth/masks"
   ]
  }
 ],
 "metadata": {},
 "nbformat": 4,
 "nbformat_minor": 5
}