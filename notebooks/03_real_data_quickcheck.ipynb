{
 "cells": [
  {
   "cell_type": "markdown",
   "id": "fa933570",
   "metadata": {},
   "source": [
    "# 03 · Real Data Quick Check\n",
    "This notebook validates `data/real/raw` and `data/real/masks` and previews a few pairs.\n",
    "**Note:** Keep PHI out of the repo; this notebook expects local files only."
   ]
  },
  {
   "cell_type": "code",
   "execution_count": null,
   "id": "709eb37c",
   "metadata": {},
   "outputs": [],
   "source": [
    "# Install lightweight deps if needed\n",
    "import pathlib, sys, subprocess\n",
    "if not pathlib.Path('requirements.txt').exists():\n",
    "    !pip -q install numpy imageio scikit-image matplotlib gdown"
   ]
  },
  {
   "cell_type": "code",
   "execution_count": null,
   "id": "3c7866ef",
   "metadata": {},
   "outputs": [],
   "source": [
    "# (Optional) download from Google Drive if you haven't\n",
    "# Change FOLDER_ID if needed.\n",
    "FOLDER_ID = \"12nhKcPg3eGIwHcSWv2anTuD_23AwpZX4\"\n",
    "!python scripts/download_gdrive.py --folder-id $FOLDER_ID --out data/drive_raw\n",
    "!python scripts/organize_dataset.py --src data/drive_raw --dst data/real\n"
   ]
  },
  {
   "cell_type": "code",
   "execution_count": null,
   "id": "01bc006b",
   "metadata": {},
   "outputs": [],
   "source": [
    "# Validate\n",
    "!python scripts/validate_dataset.py --root data/real"
   ]
  },
  {
   "cell_type": "code",
   "execution_count": null,
   "id": "4616fc0d",
   "metadata": {},
   "outputs": [],
   "source": [
    "# Visualize a few pairs\n",
    "import glob, random, imageio.v2 as imageio, matplotlib.pyplot as plt\n",
    "raws = sorted(glob.glob('data/real/raw/*'))\n",
    "masks = sorted(glob.glob('data/real/masks/*.png'))\n",
    "pairs = [(r,m) for r in raws for m in masks if r.split('/')[-1].split('.')[0]==m.split('/')[-1].split('.')[0]]\n",
    "for r,m in random.sample(pairs, min(3, len(pairs))):\n",
    "    img = imageio.imread(r)\n",
    "    msk = imageio.imread(m)\n",
    "    plt.figure(figsize=(10,4))\n",
    "    plt.subplot(1,2,1); plt.imshow(img, cmap='gray'); plt.title(r); plt.axis('off')\n",
    "    plt.subplot(1,2,2); plt.imshow(img, cmap='gray'); plt.imshow(msk, alpha=0.35); plt.title(\"overlay\"); plt.axis('off')\n",
    "    plt.show()"
   ]
  }
 ],
 "metadata": {},
 "nbformat": 4,
 "nbformat_minor": 5
}