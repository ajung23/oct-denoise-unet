{
 "cells": [
  {
   "cell_type": "markdown",
   "id": "a7726f1c",
   "metadata": {},
   "source": [
    "# 01 · Noise2Void Demo (Synthetic)\n",
    "Quick denoising example. If TensorFlow install is slow, run locally instead."
   ]
  },
  {
   "cell_type": "code",
   "execution_count": null,
   "id": "55fb7edb",
   "metadata": {},
   "outputs": [],
   "source": [
    "# Install (kept simple; works in Colab)\n",
    "!pip -q install numpy scikit-image imageio tifffile tqdm n2v csbdeep tensorflow"
   ]
  },
  {
   "cell_type": "code",
   "execution_count": null,
   "id": "b3dbb886",
   "metadata": {},
   "outputs": [],
   "source": [
    "# Generate small synthetic set\n",
    "!python scripts/make_synthetic_oct.py --out data/synth --n 10"
   ]
  },
  {
   "cell_type": "code",
   "execution_count": null,
   "id": "6190f947",
   "metadata": {},
   "outputs": [],
   "source": [
    "# Train/predict (tiny epochs)\n",
    "!python scripts/denoise_n2v.py --data data/synth/raw --out runs/n2v_demo --epochs 1"
   ]
  },
  {
   "cell_type": "code",
   "execution_count": null,
   "id": "3bdaf1b4",
   "metadata": {},
   "outputs": [],
   "source": [
    "# Visualize one result\n",
    "import glob, imageio.v2 as imageio, matplotlib.pyplot as plt\n",
    "raw = sorted(glob.glob('data/synth/raw/*.png'))[0]\n",
    "den = sorted(glob.glob('runs/n2v_demo/denoised/*.png'))[0]\n",
    "r = imageio.imread(raw); d = imageio.imread(den)\n",
    "plt.figure(figsize=(10,4))\n",
    "plt.subplot(1,2,1); plt.imshow(r, cmap='gray'); plt.title('Raw'); plt.axis('off')\n",
    "plt.subplot(1,2,2); plt.imshow(d, cmap='gray'); plt.title('Denoised (N2V)'); plt.axis('off')\n",
    "plt.show()"
   ]
  }
 ],
 "metadata": {},
 "nbformat": 4,
 "nbformat_minor": 5
}