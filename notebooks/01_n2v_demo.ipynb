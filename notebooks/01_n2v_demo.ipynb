{
 "cells": [
  {
   "cell_type": "markdown",
   "id": "a92ef734",
   "metadata": {},
   "source": [
    "# 01 · Noise2Void Demo (Synthetic)\n",
    "Run this notebook to see N2V denoising on synthetic OCT-like images."
   ]
  },
  {
   "cell_type": "code",
   "execution_count": null,
   "id": "d0172abf",
   "metadata": {},
   "outputs": [],
   "source": [
    "!python -m pip install -r requirements.txt"
   ]
  },
  {
   "cell_type": "code",
   "execution_count": null,
   "id": "d7e898f0",
   "metadata": {},
   "outputs": [],
   "source": [
    "!python scripts/make_synthetic_oct.py --out data/synth --n 10"
   ]
  },
  {
   "cell_type": "code",
   "execution_count": null,
   "id": "151f925f",
   "metadata": {},
   "outputs": [],
   "source": [
    "!python scripts/denoise_n2v.py --data data/synth/raw --out runs/n2v_demo --epochs 1"
   ]
  }
 ],
 "metadata": {},
 "nbformat": 4,
 "nbformat_minor": 5
}