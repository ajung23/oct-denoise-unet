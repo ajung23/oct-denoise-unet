{
 "cells": [
  {
   "cell_type": "markdown",
   "id": "e241f4df",
   "metadata": {},
   "source": [
    "# 01 · Noise2Void Demo (Synthetic)\n",
    "This notebook runs a tiny N2V denoising example on synthetic OCT-like data.\n",
    "\n",
    "**Tip:** If TensorFlow install is slow on Colab, you may skip the N2V cell and still proceed to U‑Net in the next notebook."
   ]
  },
  {
   "cell_type": "code",
   "execution_count": null,
   "id": "bfcb31e5",
   "metadata": {},
   "outputs": [],
   "source": [
    "# Install deps (Colab-safe); if requirements.txt isn't present, install minimal libs\n",
    "import os, sys, subprocess, pathlib\n",
    "req = pathlib.Path('requirements.txt')\n",
    "if req.exists():\n",
    "    !pip -q install -r requirements.txt\n",
    "else:\n",
    "    !pip -q install numpy scipy scikit-image imageio tifffile tqdm n2v csbdeep tensorflow"
   ]
  },
  {
   "cell_type": "code",
   "execution_count": null,
   "id": "2fde4f81",
   "metadata": {},
   "outputs": [],
   "source": [
    "# Generate a small synthetic dataset\n",
    "!python scripts/make_synthetic_oct.py --out data/synth --n 10"
   ]
  },
  {
   "cell_type": "code",
   "execution_count": null,
   "id": "ac47d473",
   "metadata": {},
   "outputs": [],
   "source": [
    "# Train a tiny N2V model (1 epoch) and predict denoised outputs\n",
    "!python scripts/denoise_n2v.py --data data/synth/raw --out runs/n2v_demo --epochs 1"
   ]
  },
  {
   "cell_type": "code",
   "execution_count": null,
   "id": "bd47202f",
   "metadata": {},
   "outputs": [],
   "source": [
    "# Visualize one sample (input vs denoised)\n",
    "import imageio.v2 as imageio, matplotlib.pyplot as plt, glob\n",
    "raw = sorted(glob.glob('data/synth/raw/*.png'))[0]\n",
    "den = sorted(glob.glob('runs/n2v_demo/denoised/*.png'))[0]\n",
    "img_raw = imageio.imread(raw)\n",
    "img_den = imageio.imread(den)\n",
    "plt.figure(figsize=(10,4))\n",
    "plt.subplot(1,2,1); plt.imshow(img_raw, cmap='gray'); plt.title('Raw'); plt.axis('off')\n",
    "plt.subplot(1,2,2); plt.imshow(img_den, cmap='gray'); plt.title('N2V Denoised'); plt.axis('off')\n",
    "plt.show()"
   ]
  }
 ],
 "metadata": {},
 "nbformat": 4,
 "nbformat_minor": 5
}